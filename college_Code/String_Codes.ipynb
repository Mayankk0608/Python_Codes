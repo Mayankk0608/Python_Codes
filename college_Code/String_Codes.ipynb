{
 "cells": [
  {
   "cell_type": "markdown",
   "id": "be196d8b",
   "metadata": {},
   "source": [
    "# String Codes"
   ]
  },
  {
   "cell_type": "markdown",
   "id": "7159f6f2",
   "metadata": {},
   "source": [
    "## Importing Libraries"
   ]
  },
  {
   "cell_type": "code",
   "execution_count": 16,
   "id": "c6d3b85f",
   "metadata": {},
   "outputs": [],
   "source": [
    "import string\n",
    "import nltk\n",
    "from nltk.corpus import stopwords\n",
    "from nltk.tokenize import word_tokenize"
   ]
  },
  {
   "cell_type": "markdown",
   "id": "cf8fedb2",
   "metadata": {},
   "source": [
    "### Removing puntuations from sentences"
   ]
  },
  {
   "cell_type": "code",
   "execution_count": 12,
   "id": "326f251c",
   "metadata": {},
   "outputs": [
    {
     "name": "stdout",
     "output_type": "stream",
     "text": [
      "\n",
      "Original String without taking as a input: My, name is Mayank!! \n",
      "Punctuation Considred: !\"#$%&'()*+,-./:;<=>?@[\\]^_`{|}~\n",
      "\n",
      "String without punctuations: My name is Mayank \n"
     ]
    }
   ],
   "source": [
    "text = input(\"Enter any string with punctuations: \")\n",
    "# print(f\"\\nOriginal String: {text}\")\n",
    "\n",
    "Demo_Text = \"My, name is Mayank!! \"\n",
    "print(f\"\\nOriginal String without taking as a input: {Demo_Text}\")\n",
    "\n",
    "punctuation = string.punctuation\n",
    "print(f\"Punctuation Considred: {punctuation}\")\n",
    "\n",
    "cleared_text = \"\".join(char for char in Demo_Text if char not in punctuation)\n",
    "print(f\"\\nString without punctuations: {cleared_text}\")"
   ]
  },
  {
   "cell_type": "markdown",
   "id": "5ee86c29",
   "metadata": {},
   "source": [
    "### Sorting alphabets from Sentences"
   ]
  },
  {
   "cell_type": "code",
   "execution_count": 13,
   "id": "848270db",
   "metadata": {},
   "outputs": [
    {
     "name": "stdout",
     "output_type": "stream",
     "text": [
      "\n",
      "Original Sentence: My name is Mayank\n",
      "\n",
      "Sorted Sentence: is Mayank My name\n"
     ]
    }
   ],
   "source": [
    "sentence = input(\"Enter a Sentence:\")\n",
    "sentence_2 = \"My name is Mayank\"\n",
    "\n",
    "words = sentence_2.split()\n",
    "sorted_words = sorted(words, key=lambda x: x.lower())\n",
    "sorted_sentence = \" \".join(sorted_words)\n",
    "\n",
    "print(f\"\\nOriginal Sentence: {sentence_2}\")\n",
    "print(f\"\\nSorted Sentence: {sorted_sentence}\")"
   ]
  },
  {
   "cell_type": "markdown",
   "id": "4dad043d",
   "metadata": {},
   "source": [
    "### Removing verbs and adjectives"
   ]
  },
  {
   "cell_type": "code",
   "execution_count": null,
   "id": "401bb766",
   "metadata": {},
   "outputs": [],
   "source": [
    "nltk.download(\"punkt\")\n",
    "nltk.download(\"punkt_tab\")\n",
    "nltk.download(\"stopwords\")\n",
    "\n",
    "passage = input(\"Enter a passage\")\n",
    "print(f\"\\nOriginal Passage:\\n {passage}\")\n",
    "\n",
    "words = word_tokenize(passage)\n",
    "stop_words = set(stopwords.words(\"english\"))\n",
    "filtered_words = [word for word in words if word.lower() not in stop_words]\n",
    "cleaned_passage = \" \".join(filtered_words)\n",
    "\n",
    "print(f\"\\nPassage after removing stop words:\\n {cleaned_passage}\")"
   ]
  }
 ],
 "metadata": {
  "kernelspec": {
   "display_name": "venv (3.13.5)",
   "language": "python",
   "name": "python3"
  },
  "language_info": {
   "codemirror_mode": {
    "name": "ipython",
    "version": 3
   },
   "file_extension": ".py",
   "mimetype": "text/x-python",
   "name": "python",
   "nbconvert_exporter": "python",
   "pygments_lexer": "ipython3",
   "version": "3.13.7"
  }
 },
 "nbformat": 4,
 "nbformat_minor": 5
}
