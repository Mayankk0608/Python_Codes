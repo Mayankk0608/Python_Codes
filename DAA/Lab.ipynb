{
 "cells": [
  {
   "cell_type": "markdown",
   "id": "bc8552ce",
   "metadata": {},
   "source": [
    "## Sorting Program in Python (DAA Lab)"
   ]
  },
  {
   "cell_type": "markdown",
   "id": "e25623d9",
   "metadata": {},
   "source": [
    "### Insertion Sorting"
   ]
  },
  {
   "cell_type": "code",
   "execution_count": 2,
   "id": "d7c9016c",
   "metadata": {},
   "outputs": [
    {
     "name": "stdout",
     "output_type": "stream",
     "text": [
      "Original Array: [9, 5, 4, 15, 7, -1, -4, -6]\n",
      "\n",
      "Sorted Array: [-6, -4, -1, 4, 5, 7, 9, 15]\n"
     ]
    }
   ],
   "source": [
    "def Inserstion_sort(arr):\n",
    "    for i in range(1, len(arr)):\n",
    "        key = arr[i]\n",
    "        j = i - 1\n",
    "\n",
    "        while j >= 0 and arr[j] > key:\n",
    "            arr[j + 1] = arr[j]\n",
    "            j -= 1\n",
    "    \n",
    "        arr[j + 1] = key\n",
    "\n",
    "if __name__ == \"__main__\":\n",
    "    arr = [9,5,4,15,7,-1,-4,-6]\n",
    "    print(f\"Original Array: {arr}\")\n",
    "\n",
    "    Inserstion_sort(arr)\n",
    "    print(f\"\\nSorted Array: {arr}\")"
   ]
  }
 ],
 "metadata": {
  "kernelspec": {
   "display_name": "venv (3.13.5)",
   "language": "python",
   "name": "python3"
  },
  "language_info": {
   "codemirror_mode": {
    "name": "ipython",
    "version": 3
   },
   "file_extension": ".py",
   "mimetype": "text/x-python",
   "name": "python",
   "nbconvert_exporter": "python",
   "pygments_lexer": "ipython3",
   "version": "3.13.7"
  }
 },
 "nbformat": 4,
 "nbformat_minor": 5
}
