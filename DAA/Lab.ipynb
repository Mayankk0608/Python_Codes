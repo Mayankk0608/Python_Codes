{
 "cells": [
  {
   "cell_type": "markdown",
   "id": "bc8552ce",
   "metadata": {},
   "source": [
    "## Programs in DAA Lab"
   ]
  },
  {
   "cell_type": "markdown",
   "id": "5f890ffe",
   "metadata": {},
   "source": [
    "### Linear Searching"
   ]
  },
  {
   "cell_type": "code",
   "execution_count": 1,
   "id": "979319d5",
   "metadata": {},
   "outputs": [
    {
     "name": "stdout",
     "output_type": "stream",
     "text": [
      "Array: [64, 25, 12, 22, 11, 90, 5]\n",
      "\n",
      "Searching for 22:\n",
      "index: 3\n",
      "Found at index 3\n",
      "\n",
      "Searching for 5:\n",
      "index: 6\n",
      "Found at index 6\n",
      "\n",
      "Searching for 64:\n",
      "index: 0\n",
      "Found at index 0\n",
      "\n",
      "Searching for 100:\n",
      "index: -1\n",
      "Not found\n",
      "\n"
     ]
    }
   ],
   "source": [
    "def Linear_Search(arr, target, index=0):\n",
    "\n",
    "    if index >= len(arr):\n",
    "        return -1\n",
    "    \n",
    "    if arr[index] == target:\n",
    "        return index\n",
    "    \n",
    "    return Linear_Search(arr, target, index + 1)\n",
    "\n",
    "\n",
    "numbers = [64, 25, 12, 22, 11, 90, 5]\n",
    "\n",
    "print(\"Array:\", numbers)\n",
    "print()\n",
    "\n",
    "test_targets = [22, 5, 64, 100]\n",
    "\n",
    "for target in test_targets:\n",
    "    result = Linear_Search(numbers, target)\n",
    "    \n",
    "    \n",
    "    print(f\"Searching for {target}:\")\n",
    "    print(f\"index: {result}\")\n",
    "    \n",
    "    if result != -1:\n",
    "        print(f\"Found at index {result}\")\n",
    "    else:\n",
    "        print(f\"Not found\")\n",
    "    print()"
   ]
  },
  {
   "cell_type": "markdown",
   "id": "f460a531",
   "metadata": {},
   "source": [
    "### Binary Searching"
   ]
  },
  {
   "cell_type": "code",
   "execution_count": 2,
   "id": "5e7cae73",
   "metadata": {},
   "outputs": [
    {
     "name": "stdout",
     "output_type": "stream",
     "text": [
      "Original Array: [64, 25, 12, 22, 11, 90, 5]\n",
      "Sorted Array: [5, 11, 12, 22, 25, 64, 90]\n",
      "\n",
      "Searching for 22:\n",
      "index: 3\n",
      "Found at index 3\n",
      "\n",
      "Searching for 5:\n",
      "index: 0\n",
      "Found at index 0\n",
      "\n",
      "Searching for 64:\n",
      "index: 5\n",
      "Found at index 5\n",
      "\n",
      "Searching for 100:\n",
      "index: -1\n",
      "Not found\n",
      "\n"
     ]
    }
   ],
   "source": [
    "def Binary_Search(arr, target, left=0, right=None):\n",
    "\n",
    "    if right is None:\n",
    "        right = len(arr) - 1\n",
    "    \n",
    "    if left > right:\n",
    "        return -1\n",
    "    \n",
    "    mid = left + (right - left) // 2\n",
    "    \n",
    "    if arr[mid] == target:\n",
    "        return mid\n",
    "    \n",
    "    elif arr[mid] > target:\n",
    "        return Binary_Search(arr, target, left, mid - 1)\n",
    "    \n",
    "    else:\n",
    "        return Binary_Search(arr, target, mid + 1, right)\n",
    "\n",
    "numbers = [64, 25, 12, 22, 11, 90, 5]\n",
    "\n",
    "print(\"Original Array:\", numbers)\n",
    "\n",
    "numbers.sort()\n",
    "print(\"Sorted Array:\", numbers)\n",
    "print()\n",
    "\n",
    "test_targets = [22, 5, 64, 100]\n",
    "\n",
    "for target in test_targets:\n",
    "    result = Binary_Search(numbers, target)\n",
    "    print(f\"Searching for {target}:\")\n",
    "    print(f\"index: {result}\")\n",
    "    \n",
    "    if result != -1:\n",
    "        print(f\"Found at index {result}\")\n",
    "    else:\n",
    "        print(f\"Not found\")\n",
    "    print()"
   ]
  },
  {
   "cell_type": "markdown",
   "id": "e25623d9",
   "metadata": {},
   "source": [
    "### Insertion Sorting"
   ]
  },
  {
   "cell_type": "code",
   "execution_count": 6,
   "id": "d7c9016c",
   "metadata": {},
   "outputs": [
    {
     "name": "stdout",
     "output_type": "stream",
     "text": [
      "Original Array: [9, 5, 4, 15, 7, -1, -4, -6]\n",
      "\n",
      "Sorted Array: [-6, -4, -1, 4, 5, 7, 9, 15]\n"
     ]
    }
   ],
   "source": [
    "def Inserstion_sort(arr):\n",
    "    for i in range(1, len(arr)):\n",
    "        key = arr[i]\n",
    "        j = i - 1\n",
    "\n",
    "        while j >= 0 and arr[j] > key:\n",
    "            arr[j + 1] = arr[j]\n",
    "            j -= 1\n",
    "    \n",
    "        arr[j + 1] = key\n",
    "\n",
    "if __name__ == \"__main__\":\n",
    "    arr = [9,5,4,15,7,-1,-4,-6]\n",
    "    print(f\"Original Array: {arr}\")\n",
    "\n",
    "    Inserstion_sort(arr)\n",
    "    print(f\"\\nSorted Array: {arr}\")"
   ]
  },
  {
   "cell_type": "markdown",
   "id": "cf2949d9",
   "metadata": {},
   "source": [
    "### Selection Sort"
   ]
  },
  {
   "cell_type": "code",
   "execution_count": 18,
   "id": "4d32b5bd",
   "metadata": {},
   "outputs": [
    {
     "name": "stdout",
     "output_type": "stream",
     "text": [
      "Unsorted Array:[-12, -13, -65, -1, 0, 1, 3, 5, 10]\n",
      "\n",
      "Sorted Array: [-65, -13, -12, -1, 0, 1, 3, 5, 10]\n"
     ]
    }
   ],
   "source": [
    "def Selection_Sort(arr):\n",
    "    n = len(arr)\n",
    "\n",
    "    for i in range(n):\n",
    "        min_index = i\n",
    "    \n",
    "        for j in range(i + 1, n):\n",
    "            if arr[j] < arr[min_index]:\n",
    "                min_index = j\n",
    "\n",
    "        arr[i], arr[min_index] = arr[min_index], arr[i]\n",
    "\n",
    "arr = [-12, -13, -65, -1, 0, 1, 3, 5, 10]\n",
    "print(f\"Unsorted Array:{arr}\")\n",
    "Sorted_Array = Selection_Sort(arr)\n",
    "print(f\"\\nSorted Array: {arr}\")"
   ]
  },
  {
   "cell_type": "markdown",
   "id": "a2fd5798",
   "metadata": {},
   "source": [
    "### Quick Sort "
   ]
  },
  {
   "cell_type": "code",
   "execution_count": 17,
   "id": "18dc28fe",
   "metadata": {},
   "outputs": [
    {
     "name": "stdout",
     "output_type": "stream",
     "text": [
      "Unsorted Array: [-12, -13, -65, -1, 0, 1, 3, 5, 10]\n",
      "\n",
      "Sorted Array: [-65, -13, -12, -1, 0, 1, 3, 5, 10]\n"
     ]
    }
   ],
   "source": [
    "def Quick_Search(arr):\n",
    "    if len(arr) <= 1:\n",
    "        return arr \n",
    "    \n",
    "    pivot = arr[len(arr) // 2]\n",
    "    left = [x for x in arr if x < pivot]\n",
    "    middle = [x for x in arr if x == pivot]\n",
    "    right = [x for x in arr if x > pivot]\n",
    "\n",
    "    return Quick_Search(left) + middle + Quick_Search(right)\n",
    "\n",
    "arr = [-12, -13, -65, -1, 0, 1, 3, 5, 10]\n",
    "Sorted_array = Quick_Search(arr)\n",
    "print(f\"Unsorted Array: {arr}\")\n",
    "print(f\"\\nSorted Array: {Sorted_array}\")"
   ]
  },
  {
   "cell_type": "markdown",
   "id": "12978b23",
   "metadata": {},
   "source": [
    "### Merge Sort \n"
   ]
  },
  {
   "cell_type": "code",
   "execution_count": 16,
   "id": "88fef857",
   "metadata": {},
   "outputs": [
    {
     "name": "stdout",
     "output_type": "stream",
     "text": [
      "Unsorted Array: [-12, -13, -65, -1, 0, 10, 1, 87, 23]\n",
      "\n",
      "Sorted Array: [-65, -13, -12, -1, 0, 1, 10, 23, 87]\n"
     ]
    }
   ],
   "source": [
    "def Merge_Sort(arr):\n",
    "    if len(arr) <= 1:\n",
    "        return arr\n",
    "    \n",
    "    mid = len(arr) // 2\n",
    "    left_half = Merge_Sort(arr[:mid])\n",
    "    right_half = Merge_Sort(arr[mid:])\n",
    "\n",
    "    return merge(left_half, right_half)\n",
    "\n",
    "def merge(left, right):\n",
    "    merged = []\n",
    "    i = j = 0\n",
    "\n",
    "    while i < len(left) and j < len(right):\n",
    "        if left[i] < right[j]:\n",
    "            merged.append(left[i])\n",
    "            i += 1\n",
    "\n",
    "        else:\n",
    "            merged.append(right[j])\n",
    "            j += 1\n",
    "\n",
    "    merged.extend(left[i:])\n",
    "    merged.extend(right[j:])\n",
    "\n",
    "    return merged\n",
    "\n",
    "arr = [-12, -13, -65, -1, 0, 10, 1, 87, 23]\n",
    "print(f\"Unsorted Array: {arr}\")\n",
    "Sorted_Array = Merge_Sort(arr)\n",
    "print(f\"\\nSorted Array: {Sorted_Array}\")\n",
    "\n"
   ]
  }
 ],
 "metadata": {
  "kernelspec": {
   "display_name": "venv (3.13.5)",
   "language": "python",
   "name": "python3"
  },
  "language_info": {
   "codemirror_mode": {
    "name": "ipython",
    "version": 3
   },
   "file_extension": ".py",
   "mimetype": "text/x-python",
   "name": "python",
   "nbconvert_exporter": "python",
   "pygments_lexer": "ipython3",
   "version": "3.13.7"
  }
 },
 "nbformat": 4,
 "nbformat_minor": 5
}
